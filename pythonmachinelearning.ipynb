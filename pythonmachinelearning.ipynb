import pandas as pd
from sklearn.model_selection import train_test_split
from sklearn.linear_model import LinearRegression
from sklearn.metrics import mean_squared_error, r2_score
from sklearn.ensemble import RandomForestRegressor
import matplotlib.pyplot as plt
import numpy as np

#data set
df = pd.read_csv('https://raw.githubusercontent.com/dataprofessor/data/refs/heads/master/delaney_solubility_with_descriptors.csv')

#x and y values
y = df['logS']
X = df.drop('logS', axis=1)

#train and test for x and y
X_train, X_test, y_train, y_test = train_test_split(X, y, test_size=0.2, random_state=100)

#training the model
lr = LinearRegression()
lr.fit(X_train, y_train)

#model predictions
y_lr_train_pred = lr.predict(X_train)
y_lr_test_pred = lr.predict(X_test)

#evaluating performance (train)
lr_train_mse = mean_squared_error(y_train, y_lr_train_pred)
lr_train_r2 = r2_score(y_train, y_lr_train_pred)
#evaluating performance (test)
lr_test_mse = mean_squared_error(y_test, y_lr_test_pred)
lr_test_r2 = r2_score(y_test, y_lr_test_pred)

#results table
lr_results = pd.DataFrame(['Linear regression', lr_train_mse, lr_train_r2, lr_test_mse, lr_test_r2]).transpose()
lr_results.columns = ['Method', 'Training MSE', 'Training R2', 'Test MSE', 'Test R2']

#--------------------------------------------------------------------

#randomforest
rf = RandomForestRegressor(max_depth=2, random_state=100)
rf.fit(X_train, y_train)

#model predictions
y_rf_train_pred = rf.predict(X_train)
y_rf_test_pred = rf.predict(X_test)

#evaluate peformance (train)
rf_train_mse = mean_squared_error(y_train, y_rf_train_pred)
rf_train_r2 = r2_score(y_train, y_rf_train_pred)

#evaluate performance (test)
rf_test_mse = mean_squared_error(y_test, y_rf_test_pred)
rf_test_r2 = r2_score(y_test, y_rf_test_pred)

#--------------------------------------------------------------------

#comparing models
df_models = pd.concat([lr_results, rf_results], axis=0).reset_index(drop=True)

#visualizing data in a graph
plt.figure(figsize=(5,5))
plt.scatter(x=y_train, y=y_lr_train_pred, c="#0000FF", alpha=0.3)

z = np.polyfit(y_train, y_lr_train_pred, 1)
p = np.poly1d(z)

plt.plot(y_train, p(y_train), '#FF0000')
plt.ylabel('Predict LogS')
plt.xlabel('Experimental LogS')
